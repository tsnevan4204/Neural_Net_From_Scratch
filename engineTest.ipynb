{
 "cells": [
  {
   "cell_type": "code",
   "execution_count": 1,
   "metadata": {},
   "outputs": [],
   "source": [
    "import math"
   ]
  },
  {
   "cell_type": "code",
   "execution_count": 2,
   "metadata": {},
   "outputs": [],
   "source": [
    "import torch"
   ]
  },
  {
   "cell_type": "code",
   "execution_count": 3,
   "metadata": {},
   "outputs": [],
   "source": [
    "from engine import Node"
   ]
  },
  {
   "cell_type": "code",
   "execution_count": 4,
   "metadata": {},
   "outputs": [
    {
     "data": {
      "text/plain": [
       "3.0"
      ]
     },
     "execution_count": 4,
     "metadata": {},
     "output_type": "execute_result"
    }
   ],
   "source": [
    "a = Node(3)\n",
    "b = Node(2)\n",
    "c = a * b + a + b\n",
    "\n",
    "c.autograd()\n",
    "a.gradient"
   ]
  },
  {
   "cell_type": "code",
   "execution_count": 5,
   "metadata": {},
   "outputs": [
    {
     "name": "stdout",
     "output_type": "stream",
     "text": [
      "-19.0\n",
      "-19.0\n"
     ]
    }
   ],
   "source": [
    "a = Node(-4.0)\n",
    "b = Node(2) * a\n",
    "c = b + Node(2)\n",
    "d = c + a\n",
    "e = d * a\n",
    "f = e + d\n",
    "f.autograd()\n",
    "xmg, ymg = a, f\n",
    "\n",
    "a = torch.Tensor([-4.0]).double()\n",
    "a.requires_grad = True\n",
    "b = 2 * a\n",
    "c = b + 2\n",
    "d = c + a\n",
    "e = d * a\n",
    "f = e + d\n",
    "f.backward()\n",
    "xpt, ypt = a, f\n",
    "\n",
    "print(xpt.grad.item())\n",
    "print(xmg.gradient)"
   ]
  }
 ],
 "metadata": {
  "kernelspec": {
   "display_name": "base",
   "language": "python",
   "name": "python3"
  },
  "language_info": {
   "codemirror_mode": {
    "name": "ipython",
    "version": 3
   },
   "file_extension": ".py",
   "mimetype": "text/x-python",
   "name": "python",
   "nbconvert_exporter": "python",
   "pygments_lexer": "ipython3",
   "version": "3.9.12"
  }
 },
 "nbformat": 4,
 "nbformat_minor": 2
}
